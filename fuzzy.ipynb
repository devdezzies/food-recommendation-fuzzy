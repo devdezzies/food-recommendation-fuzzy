{
 "cells": [
  {
   "cell_type": "code",
   "execution_count": 2,
   "id": "90320862",
   "metadata": {},
   "outputs": [],
   "source": [
    "import pandas as pd \n",
    "import numpy as np \n",
    "import matplotlib.pyplot as plt \n",
    "import seaborn as sns"
   ]
  },
  {
   "cell_type": "markdown",
   "id": "a628160b",
   "metadata": {},
   "source": [
    "# 1. Data pre-processing"
   ]
  },
  {
   "cell_type": "code",
   "execution_count": 10,
   "id": "6fedc175",
   "metadata": {},
   "outputs": [
    {
     "data": {
      "text/html": [
       "<div>\n",
       "<style scoped>\n",
       "    .dataframe tbody tr th:only-of-type {\n",
       "        vertical-align: middle;\n",
       "    }\n",
       "\n",
       "    .dataframe tbody tr th {\n",
       "        vertical-align: top;\n",
       "    }\n",
       "\n",
       "    .dataframe thead th {\n",
       "        text-align: right;\n",
       "    }\n",
       "</style>\n",
       "<table border=\"1\" class=\"dataframe\">\n",
       "  <thead>\n",
       "    <tr style=\"text-align: right;\">\n",
       "      <th></th>\n",
       "      <th>BodyFat</th>\n",
       "      <th>Original</th>\n",
       "      <th>Sex</th>\n",
       "      <th>Age</th>\n",
       "      <th>Weight</th>\n",
       "      <th>Height</th>\n",
       "      <th>Neck</th>\n",
       "      <th>Chest</th>\n",
       "      <th>Abdomen</th>\n",
       "      <th>Hip</th>\n",
       "      <th>Thigh</th>\n",
       "      <th>Knee</th>\n",
       "      <th>Ankle</th>\n",
       "      <th>Biceps</th>\n",
       "      <th>Forearm</th>\n",
       "      <th>Wrist</th>\n",
       "    </tr>\n",
       "  </thead>\n",
       "  <tbody>\n",
       "    <tr>\n",
       "      <th>0</th>\n",
       "      <td>12.3</td>\n",
       "      <td>Y</td>\n",
       "      <td>M</td>\n",
       "      <td>23</td>\n",
       "      <td>69.97</td>\n",
       "      <td>1.72</td>\n",
       "      <td>36.2</td>\n",
       "      <td>93.1</td>\n",
       "      <td>85.2</td>\n",
       "      <td>94.5</td>\n",
       "      <td>59.0</td>\n",
       "      <td>37.3</td>\n",
       "      <td>21.9</td>\n",
       "      <td>32.0</td>\n",
       "      <td>27.4</td>\n",
       "      <td>17.1</td>\n",
       "    </tr>\n",
       "    <tr>\n",
       "      <th>1</th>\n",
       "      <td>6.1</td>\n",
       "      <td>Y</td>\n",
       "      <td>M</td>\n",
       "      <td>22</td>\n",
       "      <td>78.59</td>\n",
       "      <td>1.84</td>\n",
       "      <td>38.5</td>\n",
       "      <td>93.6</td>\n",
       "      <td>83.0</td>\n",
       "      <td>98.7</td>\n",
       "      <td>58.7</td>\n",
       "      <td>37.3</td>\n",
       "      <td>23.4</td>\n",
       "      <td>30.5</td>\n",
       "      <td>28.9</td>\n",
       "      <td>18.2</td>\n",
       "    </tr>\n",
       "    <tr>\n",
       "      <th>2</th>\n",
       "      <td>25.3</td>\n",
       "      <td>Y</td>\n",
       "      <td>M</td>\n",
       "      <td>22</td>\n",
       "      <td>69.85</td>\n",
       "      <td>1.68</td>\n",
       "      <td>34.0</td>\n",
       "      <td>95.8</td>\n",
       "      <td>87.9</td>\n",
       "      <td>99.2</td>\n",
       "      <td>59.6</td>\n",
       "      <td>38.9</td>\n",
       "      <td>24.0</td>\n",
       "      <td>28.8</td>\n",
       "      <td>25.2</td>\n",
       "      <td>16.6</td>\n",
       "    </tr>\n",
       "    <tr>\n",
       "      <th>3</th>\n",
       "      <td>10.4</td>\n",
       "      <td>Y</td>\n",
       "      <td>M</td>\n",
       "      <td>26</td>\n",
       "      <td>83.80</td>\n",
       "      <td>1.84</td>\n",
       "      <td>37.4</td>\n",
       "      <td>101.8</td>\n",
       "      <td>86.4</td>\n",
       "      <td>101.2</td>\n",
       "      <td>60.1</td>\n",
       "      <td>37.3</td>\n",
       "      <td>22.8</td>\n",
       "      <td>32.4</td>\n",
       "      <td>29.4</td>\n",
       "      <td>18.2</td>\n",
       "    </tr>\n",
       "    <tr>\n",
       "      <th>4</th>\n",
       "      <td>28.7</td>\n",
       "      <td>Y</td>\n",
       "      <td>M</td>\n",
       "      <td>24</td>\n",
       "      <td>83.58</td>\n",
       "      <td>1.81</td>\n",
       "      <td>34.4</td>\n",
       "      <td>97.3</td>\n",
       "      <td>100.0</td>\n",
       "      <td>101.9</td>\n",
       "      <td>63.2</td>\n",
       "      <td>42.2</td>\n",
       "      <td>24.0</td>\n",
       "      <td>32.2</td>\n",
       "      <td>27.7</td>\n",
       "      <td>17.7</td>\n",
       "    </tr>\n",
       "  </tbody>\n",
       "</table>\n",
       "</div>"
      ],
      "text/plain": [
       "   BodyFat Original Sex  Age  Weight  Height  Neck  Chest  Abdomen    Hip  \\\n",
       "0     12.3        Y   M   23   69.97    1.72  36.2   93.1     85.2   94.5   \n",
       "1      6.1        Y   M   22   78.59    1.84  38.5   93.6     83.0   98.7   \n",
       "2     25.3        Y   M   22   69.85    1.68  34.0   95.8     87.9   99.2   \n",
       "3     10.4        Y   M   26   83.80    1.84  37.4  101.8     86.4  101.2   \n",
       "4     28.7        Y   M   24   83.58    1.81  34.4   97.3    100.0  101.9   \n",
       "\n",
       "   Thigh  Knee  Ankle  Biceps  Forearm  Wrist  \n",
       "0   59.0  37.3   21.9    32.0     27.4   17.1  \n",
       "1   58.7  37.3   23.4    30.5     28.9   18.2  \n",
       "2   59.6  38.9   24.0    28.8     25.2   16.6  \n",
       "3   60.1  37.3   22.8    32.4     29.4   18.2  \n",
       "4   63.2  42.2   24.0    32.2     27.7   17.7  "
      ]
     },
     "execution_count": 10,
     "metadata": {},
     "output_type": "execute_result"
    }
   ],
   "source": [
    "bmi_df = pd.read_csv('./data/bodyfat.csv')\n",
    "bmi_df.head()"
   ]
  },
  {
   "cell_type": "markdown",
   "id": "0eb761f6",
   "metadata": {},
   "source": [
    "Dataset tersebut diambil dari [body-fat-extended dataset from Kaggle](https://www.kaggle.com/datasets/simonezappatini/body-fat-extended-dataset). Dengan satuan metrik untuk variabel tertentu yang akan dijadikan acuan adalah **BodyFat**, **Sex**, **Age**, **Weight** (kg), dan **Height** (meter). "
   ]
  },
  {
   "attachments": {
    "image.png": {
     "image/png": "[encoded data removed]"
    }
   },
   "cell_type": "markdown",
   "id": "616cf23c",
   "metadata": {},
   "source": [
    "![image.png](attachment:image.png)"
   ]
  },
  {
   "cell_type": "code",
   "execution_count": 11,
   "id": "0f264b32",
   "metadata": {},
   "outputs": [
    {
     "name": "stdout",
     "output_type": "stream",
     "text": [
      "<class 'pandas.core.frame.DataFrame'>\n",
      "RangeIndex: 436 entries, 0 to 435\n",
      "Data columns (total 16 columns):\n",
      " #   Column    Non-Null Count  Dtype  \n",
      "---  ------    --------------  -----  \n",
      " 0   BodyFat   436 non-null    float64\n",
      " 1   Original  436 non-null    object \n",
      " 2   Sex       436 non-null    object \n",
      " 3   Age       436 non-null    int64  \n",
      " 4   Weight    436 non-null    float64\n",
      " 5   Height    436 non-null    float64\n",
      " 6   Neck      436 non-null    float64\n",
      " 7   Chest     436 non-null    float64\n",
      " 8   Abdomen   436 non-null    float64\n",
      " 9   Hip       436 non-null    float64\n",
      " 10  Thigh     436 non-null    float64\n",
      " 11  Knee      436 non-null    float64\n",
      " 12  Ankle     436 non-null    float64\n",
      " 13  Biceps    436 non-null    float64\n",
      " 14  Forearm   436 non-null    float64\n",
      " 15  Wrist     436 non-null    float64\n",
      "dtypes: float64(13), int64(1), object(2)\n",
      "memory usage: 54.6+ KB\n"
     ]
    }
   ],
   "source": [
    "bmi_df.info()"
   ]
  },
  {
   "cell_type": "code",
   "execution_count": 13,
   "id": "2075041b",
   "metadata": {},
   "outputs": [
    {
     "data": {
      "text/html": [
       "<div>\n",
       "<style scoped>\n",
       "    .dataframe tbody tr th:only-of-type {\n",
       "        vertical-align: middle;\n",
       "    }\n",
       "\n",
       "    .dataframe tbody tr th {\n",
       "        vertical-align: top;\n",
       "    }\n",
       "\n",
       "    .dataframe thead th {\n",
       "        text-align: right;\n",
       "    }\n",
       "</style>\n",
       "<table border=\"1\" class=\"dataframe\">\n",
       "  <thead>\n",
       "    <tr style=\"text-align: right;\">\n",
       "      <th></th>\n",
       "      <th>BodyFat</th>\n",
       "      <th>Sex</th>\n",
       "      <th>Age</th>\n",
       "      <th>Weight</th>\n",
       "      <th>Height</th>\n",
       "    </tr>\n",
       "  </thead>\n",
       "  <tbody>\n",
       "    <tr>\n",
       "      <th>0</th>\n",
       "      <td>12.3</td>\n",
       "      <td>M</td>\n",
       "      <td>23</td>\n",
       "      <td>69.97</td>\n",
       "      <td>1.72</td>\n",
       "    </tr>\n",
       "    <tr>\n",
       "      <th>1</th>\n",
       "      <td>6.1</td>\n",
       "      <td>M</td>\n",
       "      <td>22</td>\n",
       "      <td>78.59</td>\n",
       "      <td>1.84</td>\n",
       "    </tr>\n",
       "    <tr>\n",
       "      <th>2</th>\n",
       "      <td>25.3</td>\n",
       "      <td>M</td>\n",
       "      <td>22</td>\n",
       "      <td>69.85</td>\n",
       "      <td>1.68</td>\n",
       "    </tr>\n",
       "    <tr>\n",
       "      <th>3</th>\n",
       "      <td>10.4</td>\n",
       "      <td>M</td>\n",
       "      <td>26</td>\n",
       "      <td>83.80</td>\n",
       "      <td>1.84</td>\n",
       "    </tr>\n",
       "    <tr>\n",
       "      <th>4</th>\n",
       "      <td>28.7</td>\n",
       "      <td>M</td>\n",
       "      <td>24</td>\n",
       "      <td>83.58</td>\n",
       "      <td>1.81</td>\n",
       "    </tr>\n",
       "  </tbody>\n",
       "</table>\n",
       "</div>"
      ],
      "text/plain": [
       "   BodyFat Sex  Age  Weight  Height\n",
       "0     12.3   M   23   69.97    1.72\n",
       "1      6.1   M   22   78.59    1.84\n",
       "2     25.3   M   22   69.85    1.68\n",
       "3     10.4   M   26   83.80    1.84\n",
       "4     28.7   M   24   83.58    1.81"
      ]
     },
     "execution_count": 13,
     "metadata": {},
     "output_type": "execute_result"
    }
   ],
   "source": [
    "# drop kolom yang tidak diperlukan \n",
    "bmi_df.drop(columns=['Original', 'Neck', 'Forearm', 'Chest', 'Abdomen', 'Hip', 'Thigh', 'Knee', 'Ankle', 'Biceps', 'Forearm', 'Wrist'], inplace=True)\n",
    "bmi_df.head()"
   ]
  },
  {
   "cell_type": "code",
   "execution_count": 14,
   "id": "4a64e919",
   "metadata": {},
   "outputs": [
    {
     "data": {
      "text/plain": [
       "BodyFat    0\n",
       "Sex        0\n",
       "Age        0\n",
       "Weight     0\n",
       "Height     0\n",
       "dtype: int64"
      ]
     },
     "execution_count": 14,
     "metadata": {},
     "output_type": "execute_result"
    }
   ],
   "source": [
    "# cek apakah ada data yang hilang \n",
    "bmi_df.isnull().sum()"
   ]
  },
  {
   "cell_type": "code",
   "execution_count": 15,
   "id": "5ac5c995",
   "metadata": {},
   "outputs": [
    {
     "data": {
      "text/plain": [
       "np.int64(0)"
      ]
     },
     "execution_count": 15,
     "metadata": {},
     "output_type": "execute_result"
    }
   ],
   "source": [
    "# cek apakah ada data duplikat\n",
    "bmi_df.duplicated().sum()"
   ]
  },
  {
   "cell_type": "code",
   "execution_count": null,
   "id": "43ac6824",
   "metadata": {},
   "outputs": [
    {
     "data": {
      "image/png": "[encoded data removed]",
      "text/plain": [
       "<Figure size 1400x600 with 4 Axes>"
      ]
     },
     "metadata": {},
     "output_type": "display_data"
    }
   ],
   "source": [
    "# visualisasi persebaran data menggunakan boxplot untuk mengidentifikasi outlier\n",
    "numeric_columns = ['BodyFat', 'Age', 'Weight', 'Height']\n",
    "n = len(numeric_columns)\n",
    "\n",
    "plt.figure(figsize=(14, 6))\n",
    "\n",
    "for i, column in enumerate(numeric_columns): \n",
    "    plt.subplot(1, n, i+1)\n",
    "    sns.boxplot(y=bmi_df[column], color='lightcoral')\n",
    "    plt.title(column)\n",
    "\n",
    "plt.tight_layout()\n",
    "plt.show()"
   ]
  },
  {
   "cell_type": "markdown",
   "id": "27c6119a",
   "metadata": {},
   "source": [
    "Analisis grafik persebaran data dan anomali dalam dataset: \n",
    "\n",
    "1. BodyFat memiliki median sekitar 21% pada rentang antar-kuartil (Q1 ke Q3) sekitar 15-26%. Selain itu juga terdapat satu outlier yang cukup tinggi di atas 40% dan satu yang sangat rendah mendekati 0%. \n",
    "2. Age memiliki distribusi yang cukup tersebar, mediannya berada di sekitar 28-30 tahun dengan nilai ekstrem yang > 75 tahun dan < 5 tahun. \n",
    "3. Weight memiliki median di sekitar 70 kg dengan beberapa outlier yang berada di > 110 kg dan bahkan mendekati 165 kg.\n",
    "4. Height memiliki median di sekitar 1.74 m debgan besar data terdistribusi normal di kisaran 1.6-1.8 m. Terdapat juga satu outlier rendah di bawah 0.8 m yang sangat tidak masuk akal."
   ]
  },
  {
   "cell_type": "markdown",
   "id": "3f3a78ed",
   "metadata": {},
   "source": [
    "Kesimpulan umum: \n",
    "- Terdapat beberapa outlier yang mencolok di bodyfat, height, dan weight\n",
    "- Terdapat juga nilai ekstrem yang tidak masuk akal (dengan mempertimbangkan aspek fisiologis) seperti bodyfat mendekati 0%. Sementara itu juga terdapat tinggi badan yang terlalu rendah yang kemungkinan akan memengaruhi fuzzy rules-nya."
   ]
  },
  {
   "cell_type": "code",
   "execution_count": 18,
   "id": "6dca32ea",
   "metadata": {},
   "outputs": [
    {
     "name": "stdout",
     "output_type": "stream",
     "text": [
      "BodyFat: Dihapus 1 data outlier\n",
      "Age: Dihapus 0 data outlier\n",
      "Weight: Dihapus 2 data outlier\n",
      "Height: Dihapus 1 data outlier\n"
     ]
    },
    {
     "data": {
      "image/png": "[encoded data removed]",
      "text/plain": [
       "<Figure size 1400x600 with 4 Axes>"
      ]
     },
     "metadata": {},
     "output_type": "display_data"
    }
   ],
   "source": [
    "# filter dan menghapus data dari outlier dengan metode IQR (Interquartile Range)\n",
    "for column in numeric_columns:\n",
    "    Q1 = bmi_df[column].quantile(0.25)\n",
    "    Q3 = bmi_df[column].quantile(0.75)\n",
    "    IQR = Q3 - Q1\n",
    "    lower_bound = Q1 - 1.5 * IQR\n",
    "    upper_bound = Q3 + 1.5 * IQR\n",
    "    before = bmi_df.shape[0]\n",
    "    bmi_df = bmi_df[(bmi_df[column] >= lower_bound) & (bmi_df[column] <= upper_bound)]\n",
    "    after = bmi_df.shape[0]\n",
    "    print(f\"{column}: Dihapus {before - after} data outlier\")\n",
    "\n",
    "# visualisasi persebaran data setelah menghapus outlier\n",
    "plt.figure(figsize=(14, 6))\n",
    "for i, column in enumerate(numeric_columns): \n",
    "    plt.subplot(1, n, i+1)\n",
    "    sns.boxplot(y=bmi_df[column], color='lightcoral')\n",
    "    plt.title(column)"
   ]
  },
  {
   "cell_type": "markdown",
   "id": "bdec9b41",
   "metadata": {},
   "source": [
    "Langkah selanjutnya adalah memastikan bahwa data yang digunakan juga amsuk akal secara fisiologis. Nilai BodyFat mendekati 0% sangat tidak realistis bagi manusia. Acuan yang akan digunakan adalah Body Fat Minimum (American Council on Exercise)\n",
    "\n",
    "- Pria: BodyFat < 4% (dihapus)\n",
    "- Wanita: BodyFat < 10% (dihapus)"
   ]
  },
  {
   "cell_type": "code",
   "execution_count": 22,
   "id": "9eab052c",
   "metadata": {},
   "outputs": [
    {
     "name": "stdout",
     "output_type": "stream",
     "text": [
      "Jumlah data sebelum pembersihan: 8\n"
     ]
    }
   ],
   "source": [
    "# jumlah sebelum pembersihan \n",
    "before = bmi_df.shape[0]\n",
    "\n",
    "# filter berdasarkan gender \n",
    "bmi_df = bmi_df[~((bmi_df['Sex'] == 'M') & (bmi_df['BodyFat'] < 4))]\n",
    "bmi_df = bmi_df[~((bmi_df['Sex'] == 'F') & (bmi_df['BodyFat'] < 10))]\n",
    "\n",
    "# jumlah setelah pembersihan \n",
    "after = bmi_df.shape[0]\n",
    "print(f\"Jumlah data sebelum pembersihan: {before-after}\")"
   ]
  },
  {
   "cell_type": "code",
   "execution_count": 24,
   "id": "4e4e0c5b",
   "metadata": {},
   "outputs": [],
   "source": [
    "# hapus usia yang terlalu muda atau terlalu tua \n",
    "bmi_df = bmi_df[~((bmi_df['Age'] < 10) | (bmi_df['Age'] > 65))]"
   ]
  },
  {
   "cell_type": "code",
   "execution_count": 25,
   "id": "5cd948b2",
   "metadata": {},
   "outputs": [
    {
     "data": {
      "image/png": "[encoded data removed]",
      "text/plain": [
       "<Figure size 1400x600 with 4 Axes>"
      ]
     },
     "metadata": {},
     "output_type": "display_data"
    }
   ],
   "source": [
    "# visualisasi persebaran data setelah menghapus data yang tidak valid\n",
    "plt.figure(figsize=(14, 6))\n",
    "for i, column in enumerate(numeric_columns): \n",
    "    plt.subplot(1, n, i+1)\n",
    "    sns.boxplot(y=bmi_df[column], color='lightcoral')\n",
    "    plt.title(column)"
   ]
  },
  {
   "cell_type": "markdown",
   "id": "8c157bc7",
   "metadata": {},
   "source": [
    "# 2. menambahkan kolom BMI dan label sintetik sebagai **Ground Truth**"
   ]
  },
  {
   "cell_type": "code",
   "execution_count": 30,
   "id": "164a1e9f",
   "metadata": {},
   "outputs": [],
   "source": [
    "# hitung BMI untuk setiap entri \n",
    "bmi_df['BMI'] = bmi_df['Weight'] / (bmi_df['Height'] ** 2)"
   ]
  },
  {
   "cell_type": "code",
   "execution_count": 31,
   "id": "a1cce99b",
   "metadata": {},
   "outputs": [
    {
     "data": {
      "text/html": [
       "<div>\n",
       "<style scoped>\n",
       "    .dataframe tbody tr th:only-of-type {\n",
       "        vertical-align: middle;\n",
       "    }\n",
       "\n",
       "    .dataframe tbody tr th {\n",
       "        vertical-align: top;\n",
       "    }\n",
       "\n",
       "    .dataframe thead th {\n",
       "        text-align: right;\n",
       "    }\n",
       "</style>\n",
       "<table border=\"1\" class=\"dataframe\">\n",
       "  <thead>\n",
       "    <tr style=\"text-align: right;\">\n",
       "      <th></th>\n",
       "      <th>BodyFat</th>\n",
       "      <th>Sex</th>\n",
       "      <th>Age</th>\n",
       "      <th>Weight</th>\n",
       "      <th>Height</th>\n",
       "      <th>BMI</th>\n",
       "    </tr>\n",
       "  </thead>\n",
       "  <tbody>\n",
       "    <tr>\n",
       "      <th>0</th>\n",
       "      <td>12.3</td>\n",
       "      <td>M</td>\n",
       "      <td>23</td>\n",
       "      <td>69.97</td>\n",
       "      <td>1.72</td>\n",
       "      <td>23.651298</td>\n",
       "    </tr>\n",
       "    <tr>\n",
       "      <th>1</th>\n",
       "      <td>6.1</td>\n",
       "      <td>M</td>\n",
       "      <td>22</td>\n",
       "      <td>78.59</td>\n",
       "      <td>1.84</td>\n",
       "      <td>23.213020</td>\n",
       "    </tr>\n",
       "    <tr>\n",
       "      <th>2</th>\n",
       "      <td>25.3</td>\n",
       "      <td>M</td>\n",
       "      <td>22</td>\n",
       "      <td>69.85</td>\n",
       "      <td>1.68</td>\n",
       "      <td>24.748441</td>\n",
       "    </tr>\n",
       "    <tr>\n",
       "      <th>3</th>\n",
       "      <td>10.4</td>\n",
       "      <td>M</td>\n",
       "      <td>26</td>\n",
       "      <td>83.80</td>\n",
       "      <td>1.84</td>\n",
       "      <td>24.751890</td>\n",
       "    </tr>\n",
       "    <tr>\n",
       "      <th>4</th>\n",
       "      <td>28.7</td>\n",
       "      <td>M</td>\n",
       "      <td>24</td>\n",
       "      <td>83.58</td>\n",
       "      <td>1.81</td>\n",
       "      <td>25.512042</td>\n",
       "    </tr>\n",
       "  </tbody>\n",
       "</table>\n",
       "</div>"
      ],
      "text/plain": [
       "   BodyFat Sex  Age  Weight  Height        BMI\n",
       "0     12.3   M   23   69.97    1.72  23.651298\n",
       "1      6.1   M   22   78.59    1.84  23.213020\n",
       "2     25.3   M   22   69.85    1.68  24.748441\n",
       "3     10.4   M   26   83.80    1.84  24.751890\n",
       "4     28.7   M   24   83.58    1.81  25.512042"
      ]
     },
     "execution_count": 31,
     "metadata": {},
     "output_type": "execute_result"
    }
   ],
   "source": [
    "bmi_df.head()"
   ]
  },
  {
   "cell_type": "code",
   "execution_count": null,
   "id": "04b05a2a",
   "metadata": {},
   "outputs": [],
   "source": [
    "# menambahkan kolom kategori BMI \n",
    "def categorize_bmi(bmi):\n",
    "    if bmi < 18.5:\n",
    "        return 'Underweight'\n",
    "    elif 18.5 <= bmi < 24.9:\n",
    "        return 'Normal weight'\n",
    "    elif 25 <= bmi < 29.9:\n",
    "        return 'Overweight'\n",
    "    else:\n",
    "        return 'Obese'\n",
    "    \n",
    "bmi_df['BMI_Category'] = bmi_df['BMI'].apply(categorize_bmi)"
   ]
  },
  {
   "cell_type": "code",
   "execution_count": null,
   "id": "cb313628",
   "metadata": {},
   "outputs": [],
   "source": [
    "# menambahkan kolom kategori Body Fat \n",
    "def categorize_body_fat(fat): \n",
    "    if fat < 15: \n",
    "        return 'low'\n",
    "    elif fat < 25: \n",
    "        return 'normal'\n",
    "    else: \n",
    "        return 'high'\n",
    "    \n",
    "bmi_df['Body_Fat_Category'] = bmi_df['BodyFat'].apply(categorize_body_fat)"
   ]
  },
  {
   "cell_type": "code",
   "execution_count": 43,
   "id": "3161e5ca",
   "metadata": {},
   "outputs": [],
   "source": [
    "def synthetic_calories(row):\n",
    "    gender = row['Sex'].lower()\n",
    "    age = row['Age']\n",
    "    bmi = row['BMI']\n",
    "    bodyfat = row['BodyFat']\n",
    "\n",
    "    # Kebutuhan dasar pria dan wanita usia 19-30 tahun\n",
    "    if gender == 'm':\n",
    "        base_cal = 2500\n",
    "    else:\n",
    "        base_cal = 2000\n",
    "\n",
    "    # Koreksi usia\n",
    "    if age < 18:\n",
    "        base_cal -= 300\n",
    "    elif age > 50:\n",
    "        base_cal -= 200\n",
    "\n",
    "    # Koreksi berdasarkan BMI dan bodyfat\n",
    "    if bmi < 18.5 or bodyfat < 10:\n",
    "        base_cal += 300  # butuh surplus\n",
    "    elif bmi >= 30 or bodyfat >= 30:\n",
    "        base_cal -= 400  # disarankan defisit\n",
    "    elif bmi >= 25 or bodyfat >= 25:\n",
    "        base_cal -= 200\n",
    "\n",
    "    return np.random.randint(base_cal - 100, base_cal + 100)"
   ]
  },
  {
   "cell_type": "code",
   "execution_count": 44,
   "id": "7ace2f9e",
   "metadata": {},
   "outputs": [],
   "source": [
    "def synthetic_macros(calories, bmi):\n",
    "    # Kalau BMI tinggi → protein lebih banyak untuk mempertahankan massa otot saat defisit\n",
    "    if bmi >= 30:\n",
    "        p = 0.25  # protein 25%\n",
    "        c = 0.45  # karbo 45%\n",
    "        f = 0.30  # lemak 30%\n",
    "    elif bmi < 18.5:\n",
    "        p = 0.20\n",
    "        c = 0.55  # karbo lebih banyak\n",
    "        f = 0.25\n",
    "    else:\n",
    "        p = 0.20\n",
    "        c = 0.50\n",
    "        f = 0.30\n",
    "\n",
    "    carb = (c * calories) / 4\n",
    "    protein = (p * calories) / 4\n",
    "    fat = (f * calories) / 9\n",
    "    return carb, protein, fat"
   ]
  },
  {
   "cell_type": "code",
   "execution_count": 45,
   "id": "716eef6e",
   "metadata": {},
   "outputs": [],
   "source": [
    "bmi_df['Calories'] = bmi_df.apply(synthetic_calories, axis=1)\n",
    "\n",
    "carb_list = []\n",
    "protein_list = []\n",
    "fat_list = []\n",
    "\n",
    "for _, row in bmi_df.iterrows():\n",
    "    carb, prot, fat = synthetic_macros(row['Calories'], row['BMI'])\n",
    "    carb_list.append(round(carb, 1))\n",
    "    protein_list.append(round(prot, 1))\n",
    "    fat_list.append(round(fat, 1))\n",
    "\n",
    "bmi_df['Carbohydrate'] = carb_list\n",
    "bmi_df['Protein'] = protein_list\n",
    "bmi_df['Fat'] = fat_list\n"
   ]
  },
  {
   "cell_type": "code",
   "execution_count": 46,
   "id": "72914d2e",
   "metadata": {},
   "outputs": [
    {
     "data": {
      "text/html": [
       "<div>\n",
       "<style scoped>\n",
       "    .dataframe tbody tr th:only-of-type {\n",
       "        vertical-align: middle;\n",
       "    }\n",
       "\n",
       "    .dataframe tbody tr th {\n",
       "        vertical-align: top;\n",
       "    }\n",
       "\n",
       "    .dataframe thead th {\n",
       "        text-align: right;\n",
       "    }\n",
       "</style>\n",
       "<table border=\"1\" class=\"dataframe\">\n",
       "  <thead>\n",
       "    <tr style=\"text-align: right;\">\n",
       "      <th></th>\n",
       "      <th>BodyFat</th>\n",
       "      <th>Sex</th>\n",
       "      <th>Age</th>\n",
       "      <th>Weight</th>\n",
       "      <th>Height</th>\n",
       "      <th>BMI</th>\n",
       "      <th>Calories</th>\n",
       "      <th>Carbohydrate</th>\n",
       "      <th>Protein</th>\n",
       "      <th>Fat</th>\n",
       "    </tr>\n",
       "  </thead>\n",
       "  <tbody>\n",
       "    <tr>\n",
       "      <th>0</th>\n",
       "      <td>12.3</td>\n",
       "      <td>M</td>\n",
       "      <td>23</td>\n",
       "      <td>69.97</td>\n",
       "      <td>1.72</td>\n",
       "      <td>23.651298</td>\n",
       "      <td>2599</td>\n",
       "      <td>324.9</td>\n",
       "      <td>130.0</td>\n",
       "      <td>86.6</td>\n",
       "    </tr>\n",
       "    <tr>\n",
       "      <th>1</th>\n",
       "      <td>6.1</td>\n",
       "      <td>M</td>\n",
       "      <td>22</td>\n",
       "      <td>78.59</td>\n",
       "      <td>1.84</td>\n",
       "      <td>23.213020</td>\n",
       "      <td>2829</td>\n",
       "      <td>353.6</td>\n",
       "      <td>141.5</td>\n",
       "      <td>94.3</td>\n",
       "    </tr>\n",
       "    <tr>\n",
       "      <th>2</th>\n",
       "      <td>25.3</td>\n",
       "      <td>M</td>\n",
       "      <td>22</td>\n",
       "      <td>69.85</td>\n",
       "      <td>1.68</td>\n",
       "      <td>24.748441</td>\n",
       "      <td>2342</td>\n",
       "      <td>292.8</td>\n",
       "      <td>117.1</td>\n",
       "      <td>78.1</td>\n",
       "    </tr>\n",
       "    <tr>\n",
       "      <th>3</th>\n",
       "      <td>10.4</td>\n",
       "      <td>M</td>\n",
       "      <td>26</td>\n",
       "      <td>83.80</td>\n",
       "      <td>1.84</td>\n",
       "      <td>24.751890</td>\n",
       "      <td>2402</td>\n",
       "      <td>300.2</td>\n",
       "      <td>120.1</td>\n",
       "      <td>80.1</td>\n",
       "    </tr>\n",
       "    <tr>\n",
       "      <th>4</th>\n",
       "      <td>28.7</td>\n",
       "      <td>M</td>\n",
       "      <td>24</td>\n",
       "      <td>83.58</td>\n",
       "      <td>1.81</td>\n",
       "      <td>25.512042</td>\n",
       "      <td>2266</td>\n",
       "      <td>283.2</td>\n",
       "      <td>113.3</td>\n",
       "      <td>75.5</td>\n",
       "    </tr>\n",
       "  </tbody>\n",
       "</table>\n",
       "</div>"
      ],
      "text/plain": [
       "   BodyFat Sex  Age  Weight  Height        BMI  Calories  Carbohydrate  \\\n",
       "0     12.3   M   23   69.97    1.72  23.651298      2599         324.9   \n",
       "1      6.1   M   22   78.59    1.84  23.213020      2829         353.6   \n",
       "2     25.3   M   22   69.85    1.68  24.748441      2342         292.8   \n",
       "3     10.4   M   26   83.80    1.84  24.751890      2402         300.2   \n",
       "4     28.7   M   24   83.58    1.81  25.512042      2266         283.2   \n",
       "\n",
       "   Protein   Fat  \n",
       "0    130.0  86.6  \n",
       "1    141.5  94.3  \n",
       "2    117.1  78.1  \n",
       "3    120.1  80.1  \n",
       "4    113.3  75.5  "
      ]
     },
     "execution_count": 46,
     "metadata": {},
     "output_type": "execute_result"
    }
   ],
   "source": [
    "bmi_df.head()"
   ]
  },
  {
   "cell_type": "code",
   "execution_count": 47,
   "id": "9d3fb42a",
   "metadata": {},
   "outputs": [],
   "source": [
    "# kategorisasi label makronutrisi\n",
    "def categorize_calories(value):\n",
    "    if value < 1800:\n",
    "        return 'Rendah'\n",
    "    elif value <= 2500:\n",
    "        return 'Sedang'\n",
    "    else:\n",
    "        return 'Tinggi'\n",
    "\n",
    "def categorize_protein(value):\n",
    "    if value < 50:\n",
    "        return 'Rendah'\n",
    "    elif value <= 90:\n",
    "        return 'Sedang'\n",
    "    else:\n",
    "        return 'Tinggi'\n",
    "\n",
    "def categorize_carbs(value):\n",
    "    if value < 200:\n",
    "        return 'Rendah'\n",
    "    elif value <= 300:\n",
    "        return 'Sedang'\n",
    "    else:\n",
    "        return 'Tinggi'\n",
    "\n",
    "def categorize_fat(value):\n",
    "    if value < 50:\n",
    "        return 'Rendah'\n",
    "    elif value <= 80:\n",
    "        return 'Sedang'\n",
    "    else:\n",
    "        return 'Tinggi'"
   ]
  },
  {
   "cell_type": "code",
   "execution_count": 48,
   "id": "1601da38",
   "metadata": {},
   "outputs": [],
   "source": [
    "bmi_df['Calories_Category'] = bmi_df['Calories'].apply(categorize_calories)\n",
    "bmi_df['Protein_Category'] = bmi_df['Protein'].apply(categorize_protein)\n",
    "bmi_df['Carbohydrate_Category'] = bmi_df['Carbohydrate'].apply(categorize_carbs)\n",
    "bmi_df['Fat_Category'] = bmi_df['Fat'].apply(categorize_fat)\n"
   ]
  },
  {
   "cell_type": "code",
   "execution_count": 50,
   "id": "ea08a673",
   "metadata": {},
   "outputs": [
    {
     "name": "stdout",
     "output_type": "stream",
     "text": [
      "Calories_Category\n",
      "Sedang    312\n",
      "Tinggi     62\n",
      "Rendah     31\n",
      "Name: count, dtype: int64\n",
      "Protein_Category\n",
      "Tinggi    374\n",
      "Sedang     31\n",
      "Name: count, dtype: int64\n",
      "Carbohydrate_Category\n",
      "Sedang    287\n",
      "Tinggi    105\n",
      "Rendah     13\n",
      "Name: count, dtype: int64\n",
      "Fat_Category\n",
      "Sedang    318\n",
      "Tinggi     87\n",
      "Name: count, dtype: int64\n"
     ]
    }
   ],
   "source": [
    "print(bmi_df['Calories_Category'].value_counts())\n",
    "print(bmi_df['Protein_Category'].value_counts())\n",
    "print(bmi_df['Carbohydrate_Category'].value_counts())\n",
    "print(bmi_df['Fat_Category'].value_counts())\n"
   ]
  },
  {
   "cell_type": "code",
   "execution_count": 52,
   "id": "eb25d523",
   "metadata": {},
   "outputs": [
    {
     "name": "stderr",
     "output_type": "stream",
     "text": [
      "C:\\Users\\HP\\AppData\\Local\\Temp\\ipykernel_18000\\3456050120.py:4: FutureWarning: \n",
      "\n",
      "Passing `palette` without assigning `hue` is deprecated and will be removed in v0.14.0. Assign the `x` variable to `hue` and set `legend=False` for the same effect.\n",
      "\n",
      "  sns.countplot(data=bmi_df, x='Calories_Category', ax=axs[0, 0], palette='pastel')\n",
      "C:\\Users\\HP\\AppData\\Local\\Temp\\ipykernel_18000\\3456050120.py:6: FutureWarning: \n",
      "\n",
      "Passing `palette` without assigning `hue` is deprecated and will be removed in v0.14.0. Assign the `x` variable to `hue` and set `legend=False` for the same effect.\n",
      "\n",
      "  sns.countplot(data=bmi_df, x='Protein_Category', ax=axs[0, 1], palette='pastel')\n",
      "C:\\Users\\HP\\AppData\\Local\\Temp\\ipykernel_18000\\3456050120.py:8: FutureWarning: \n",
      "\n",
      "Passing `palette` without assigning `hue` is deprecated and will be removed in v0.14.0. Assign the `x` variable to `hue` and set `legend=False` for the same effect.\n",
      "\n",
      "  sns.countplot(data=bmi_df, x='Carbohydrate_Category', ax=axs[1, 0], palette='pastel')\n",
      "C:\\Users\\HP\\AppData\\Local\\Temp\\ipykernel_18000\\3456050120.py:10: FutureWarning: \n",
      "\n",
      "Passing `palette` without assigning `hue` is deprecated and will be removed in v0.14.0. Assign the `x` variable to `hue` and set `legend=False` for the same effect.\n",
      "\n",
      "  sns.countplot(data=bmi_df, x='Fat_Category', ax=axs[1, 1], palette='pastel')\n"
     ]
    },
    {
     "data": {
      "image/png": "[encoded data removed]",
      "text/plain": [
       "<Figure size 1200x800 with 4 Axes>"
      ]
     },
     "metadata": {},
     "output_type": "display_data"
    }
   ],
   "source": [
    "# visualisasi data \n",
    "fig, axs = plt.subplots(2, 2, figsize=(12, 8))\n",
    "\n",
    "sns.countplot(data=bmi_df, x='Calories_Category', ax=axs[0, 0], palette='pastel')\n",
    "axs[0, 0].set_title('Distribusi Kategori Kalori')\n",
    "sns.countplot(data=bmi_df, x='Protein_Category', ax=axs[0, 1], palette='pastel')\n",
    "axs[0, 1].set_title('Distribusi Kategori Protein')\n",
    "sns.countplot(data=bmi_df, x='Carbohydrate_Category', ax=axs[1, 0], palette='pastel')\n",
    "axs[1, 0].set_title('Distribusi Kategori Karbohidrat')\n",
    "sns.countplot(data=bmi_df, x='Fat_Category', ax=axs[1, 1], palette='pastel')\n",
    "axs[1, 1].set_title('Distribusi Kategori Lemak')\n",
    "\n",
    "plt.tight_layout()\n",
    "plt.show()"
   ]
  },
  {
   "cell_type": "markdown",
   "id": "53cc4b45",
   "metadata": {},
   "source": [
    "# 3. Perancangan sistem fuzzy"
   ]
  },
  {
   "cell_type": "code",
   "execution_count": 103,
   "id": "bbea51d3",
   "metadata": {},
   "outputs": [
    {
     "name": "stdout",
     "output_type": "stream",
     "text": [
      "Calories disarankan: 1288.89\n",
      "Protein disarankan: 127.79\n",
      "Fat disarankan: 19.03\n"
     ]
    }
   ],
   "source": [
    "from skfuzzy import control as ctrl\n",
    "import skfuzzy as fuzz\n",
    "\n",
    "# 1. Definisikan variabel fuzzy input dan output\n",
    "bmi = ctrl.Antecedent(np.arange(15, 40, 0.1), 'bmi')\n",
    "bodyfat = ctrl.Antecedent(np.arange(5, 50, 0.1), 'bodyfat')\n",
    "\n",
    "calories = ctrl.Consequent(np.arange(1000, 3500, 10), 'calories')\n",
    "protein = ctrl.Consequent(np.arange(20, 150, 1), 'protein')\n",
    "fat = ctrl.Consequent(np.arange(10, 100, 1), 'fat')\n",
    "\n",
    "# 2. Membership function untuk BMI\n",
    "bmi['underweight'] = fuzz.trimf(bmi.universe, [15, 15, 18.5])\n",
    "bmi['normal'] = fuzz.trimf(bmi.universe, [18, 22, 25])\n",
    "bmi['overweight'] = fuzz.trimf(bmi.universe, [23, 27, 30])\n",
    "bmi['obese'] = fuzz.trimf(bmi.universe, [28, 40, 40])\n",
    "\n",
    "# 3. Membership function untuk BodyFat\n",
    "bodyfat['low'] = fuzz.trimf(bodyfat.universe, [5, 5, 15])\n",
    "bodyfat['normal'] = fuzz.trimf(bodyfat.universe, [12, 20, 25])\n",
    "bodyfat['high'] = fuzz.trimf(bodyfat.universe, [20, 50, 50])\n",
    "\n",
    "# 4. Membership function untuk Calories\n",
    "calories['rendah'] = fuzz.trimf(calories.universe, [1000, 1000, 1800])\n",
    "calories['sedang'] = fuzz.trimf(calories.universe, [1500, 2200, 2800])\n",
    "calories['tinggi'] = fuzz.trimf(calories.universe, [2600, 3500, 3500])\n",
    "\n",
    "# 5. Membership function untuk Protein\n",
    "protein['rendah'] = fuzz.trimf(protein.universe, [20, 20, 50])\n",
    "protein['sedang'] = fuzz.trimf(protein.universe, [40, 70, 100])\n",
    "protein['tinggi'] = fuzz.trimf(protein.universe, [90, 150, 150])\n",
    "\n",
    "# 6. Membership function untuk Fat\n",
    "fat['rendah'] = fuzz.trimf(fat.universe, [10, 10, 35])\n",
    "fat['sedang'] = fuzz.trimf(fat.universe, [30, 50, 70])\n",
    "fat['tinggi'] = fuzz.trimf(fat.universe, [60, 100, 100])\n",
    "\n",
    "# 7. Definisikan aturan fuzzy (rule)\n",
    "rule1 = ctrl.Rule(bmi['obese'] & bodyfat['high'], \n",
    "                  (calories['rendah'], protein['tinggi'], fat['rendah']))\n",
    "rule2 = ctrl.Rule(bmi['normal'] & bodyfat['normal'], \n",
    "                  (calories['sedang'], protein['sedang'], fat['sedang']))\n",
    "rule3 = ctrl.Rule(bmi['underweight'] & bodyfat['low'], \n",
    "                  (calories['tinggi'], protein['tinggi'], fat['tinggi']))\n",
    "\n",
    "# 8. Buat sistem kontrol fuzzy\n",
    "nutrition_ctrl = ctrl.ControlSystem([rule1, rule2, rule3])\n",
    "nutrition_sim = ctrl.ControlSystemSimulation(nutrition_ctrl)\n",
    "\n",
    "# 9. Contoh input dan inferensi output\n",
    "nutrition_sim.input['bmi'] = 45\n",
    "nutrition_sim.input['bodyfat'] = 40\n",
    "\n",
    "nutrition_sim.compute()\n",
    "\n",
    "print(f\"Calories disarankan: {nutrition_sim.output['calories']:.2f}\")\n",
    "print(f\"Protein disarankan: {nutrition_sim.output['protein']:.2f}\")\n",
    "print(f\"Fat disarankan: {nutrition_sim.output['fat']:.2f}\")"
   ]
  },
  {
   "cell_type": "markdown",
   "id": "9217f549",
   "metadata": {},
   "source": [
    "# 4. Evaluasi model"
   ]
  },
  {
   "cell_type": "code",
   "execution_count": 57,
   "id": "1b0d46a3",
   "metadata": {},
   "outputs": [
    {
     "data": {
      "text/html": [
       "<div>\n",
       "<style scoped>\n",
       "    .dataframe tbody tr th:only-of-type {\n",
       "        vertical-align: middle;\n",
       "    }\n",
       "\n",
       "    .dataframe tbody tr th {\n",
       "        vertical-align: top;\n",
       "    }\n",
       "\n",
       "    .dataframe thead th {\n",
       "        text-align: right;\n",
       "    }\n",
       "</style>\n",
       "<table border=\"1\" class=\"dataframe\">\n",
       "  <thead>\n",
       "    <tr style=\"text-align: right;\">\n",
       "      <th></th>\n",
       "      <th>BodyFat</th>\n",
       "      <th>Sex</th>\n",
       "      <th>Age</th>\n",
       "      <th>Weight</th>\n",
       "      <th>Height</th>\n",
       "      <th>BMI</th>\n",
       "      <th>Calories</th>\n",
       "      <th>Carbohydrate</th>\n",
       "      <th>Protein</th>\n",
       "      <th>Fat</th>\n",
       "      <th>Calories_Category</th>\n",
       "      <th>Protein_Category</th>\n",
       "      <th>Carbohydrate_Category</th>\n",
       "      <th>Fat_Category</th>\n",
       "    </tr>\n",
       "  </thead>\n",
       "  <tbody>\n",
       "    <tr>\n",
       "      <th>0</th>\n",
       "      <td>12.3</td>\n",
       "      <td>M</td>\n",
       "      <td>23</td>\n",
       "      <td>69.97</td>\n",
       "      <td>1.72</td>\n",
       "      <td>23.651298</td>\n",
       "      <td>2599</td>\n",
       "      <td>324.9</td>\n",
       "      <td>130.0</td>\n",
       "      <td>86.6</td>\n",
       "      <td>Tinggi</td>\n",
       "      <td>Tinggi</td>\n",
       "      <td>Tinggi</td>\n",
       "      <td>Tinggi</td>\n",
       "    </tr>\n",
       "    <tr>\n",
       "      <th>1</th>\n",
       "      <td>6.1</td>\n",
       "      <td>M</td>\n",
       "      <td>22</td>\n",
       "      <td>78.59</td>\n",
       "      <td>1.84</td>\n",
       "      <td>23.213020</td>\n",
       "      <td>2829</td>\n",
       "      <td>353.6</td>\n",
       "      <td>141.5</td>\n",
       "      <td>94.3</td>\n",
       "      <td>Tinggi</td>\n",
       "      <td>Tinggi</td>\n",
       "      <td>Tinggi</td>\n",
       "      <td>Tinggi</td>\n",
       "    </tr>\n",
       "    <tr>\n",
       "      <th>2</th>\n",
       "      <td>25.3</td>\n",
       "      <td>M</td>\n",
       "      <td>22</td>\n",
       "      <td>69.85</td>\n",
       "      <td>1.68</td>\n",
       "      <td>24.748441</td>\n",
       "      <td>2342</td>\n",
       "      <td>292.8</td>\n",
       "      <td>117.1</td>\n",
       "      <td>78.1</td>\n",
       "      <td>Sedang</td>\n",
       "      <td>Tinggi</td>\n",
       "      <td>Sedang</td>\n",
       "      <td>Sedang</td>\n",
       "    </tr>\n",
       "    <tr>\n",
       "      <th>3</th>\n",
       "      <td>10.4</td>\n",
       "      <td>M</td>\n",
       "      <td>26</td>\n",
       "      <td>83.80</td>\n",
       "      <td>1.84</td>\n",
       "      <td>24.751890</td>\n",
       "      <td>2402</td>\n",
       "      <td>300.2</td>\n",
       "      <td>120.1</td>\n",
       "      <td>80.1</td>\n",
       "      <td>Sedang</td>\n",
       "      <td>Tinggi</td>\n",
       "      <td>Tinggi</td>\n",
       "      <td>Tinggi</td>\n",
       "    </tr>\n",
       "    <tr>\n",
       "      <th>4</th>\n",
       "      <td>28.7</td>\n",
       "      <td>M</td>\n",
       "      <td>24</td>\n",
       "      <td>83.58</td>\n",
       "      <td>1.81</td>\n",
       "      <td>25.512042</td>\n",
       "      <td>2266</td>\n",
       "      <td>283.2</td>\n",
       "      <td>113.3</td>\n",
       "      <td>75.5</td>\n",
       "      <td>Sedang</td>\n",
       "      <td>Tinggi</td>\n",
       "      <td>Sedang</td>\n",
       "      <td>Sedang</td>\n",
       "    </tr>\n",
       "  </tbody>\n",
       "</table>\n",
       "</div>"
      ],
      "text/plain": [
       "   BodyFat Sex  Age  Weight  Height        BMI  Calories  Carbohydrate  \\\n",
       "0     12.3   M   23   69.97    1.72  23.651298      2599         324.9   \n",
       "1      6.1   M   22   78.59    1.84  23.213020      2829         353.6   \n",
       "2     25.3   M   22   69.85    1.68  24.748441      2342         292.8   \n",
       "3     10.4   M   26   83.80    1.84  24.751890      2402         300.2   \n",
       "4     28.7   M   24   83.58    1.81  25.512042      2266         283.2   \n",
       "\n",
       "   Protein   Fat Calories_Category Protein_Category Carbohydrate_Category  \\\n",
       "0    130.0  86.6            Tinggi           Tinggi                Tinggi   \n",
       "1    141.5  94.3            Tinggi           Tinggi                Tinggi   \n",
       "2    117.1  78.1            Sedang           Tinggi                Sedang   \n",
       "3    120.1  80.1            Sedang           Tinggi                Tinggi   \n",
       "4    113.3  75.5            Sedang           Tinggi                Sedang   \n",
       "\n",
       "  Fat_Category  \n",
       "0       Tinggi  \n",
       "1       Tinggi  \n",
       "2       Sedang  \n",
       "3       Tinggi  \n",
       "4       Sedang  "
      ]
     },
     "execution_count": 57,
     "metadata": {},
     "output_type": "execute_result"
    }
   ],
   "source": [
    "bmi_df.head()"
   ]
  },
  {
   "cell_type": "code",
   "execution_count": 109,
   "id": "17e55382",
   "metadata": {},
   "outputs": [
    {
     "data": {
      "image/png": "[encoded data removed]",
      "text/plain": [
       "<Figure size 800x500 with 1 Axes>"
      ]
     },
     "metadata": {},
     "output_type": "display_data"
    }
   ],
   "source": [
    "from sklearn.metrics import f1_score\n",
    "\n",
    "pred_calories = []\n",
    "pred_protein = []\n",
    "pred_fat = []\n",
    "\n",
    "for idx, row in bmi_df.iterrows():\n",
    "    nutrition_sim.input['bmi'] = row['BMI']        # pastikan ini numerik\n",
    "    nutrition_sim.input['bodyfat'] = row['BodyFat'] # juga numerik\n",
    "\n",
    "    nutrition_sim.compute()\n",
    "\n",
    "    calories_pred = categorize_calories(nutrition_sim.output['calories'])\n",
    "    protein_pred = categorize_protein(nutrition_sim.output['protein'])\n",
    "    fat_pred = categorize_fat(nutrition_sim.output['fat'])\n",
    "\n",
    "    pred_calories.append(calories_pred)\n",
    "    pred_protein.append(protein_pred)\n",
    "    pred_fat.append(fat_pred)\n",
    "\n",
    "# Hitung F1-score per output (micro average bisa juga macro, sesuaikan kebutuhan)\n",
    "f1_calories = f1_score(bmi_df['Calories_Category'], pred_calories, average='weighted')\n",
    "f1_protein = f1_score(bmi_df['Protein_Category'], pred_protein, average='weighted')\n",
    "f1_fat = f1_score(bmi_df['Fat_Category'], pred_fat, average='weighted')\n",
    "\n",
    "categories = ['Calories', 'Protein', 'Fat']\n",
    "f1_scores = [f1_calories, f1_protein, f1_fat]\n",
    "\n",
    "plt.figure(figsize=(8, 5))\n",
    "bars = plt.bar(categories, f1_scores, color=['skyblue', 'salmon', 'lightgreen'])\n",
    "plt.ylim(0, 1)\n",
    "plt.ylabel('F1 Score')\n",
    "plt.title('F1 Score for Each Fuzzy Output')\n",
    "\n",
    "# Tambahkan nilai di atas setiap bar\n",
    "for bar in bars:\n",
    "    height = bar.get_height()\n",
    "    plt.text(bar.get_x() + bar.get_width()/2, height + 0.02,\n",
    "             f'{height:.2f}', ha='center', va='bottom', fontsize=11)\n",
    "\n",
    "plt.grid(axis='y', linestyle='--', alpha=0.7)\n",
    "plt.tight_layout()\n",
    "plt.show()"
   ]
  }
 ],
 "metadata": {
  "kernelspec": {
   "display_name": ".venv",
   "language": "python",
   "name": "python3"
  },
  "language_info": {
   "codemirror_mode": {
    "name": "ipython",
    "version": 3
   },
   "file_extension": ".py",
   "mimetype": "text/x-python",
   "name": "python",
   "nbconvert_exporter": "python",
   "pygments_lexer": "ipython3",
   "version": "3.13.2"
  }
 },
 "nbformat": 4,
 "nbformat_minor": 5
}
