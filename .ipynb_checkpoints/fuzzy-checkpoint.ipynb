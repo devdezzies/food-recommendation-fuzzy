{
 "cells": [
  {
   "cell_type": "code",
   "execution_count": 62,
   "id": "983a6983-8ab9-434c-aab3-b315d30ccda9",
   "metadata": {},
   "outputs": [],
   "source": [
    "import pandas as pd \n",
    "import numpy as np\n",
    "import matplotlib.pyplot as plt"
   ]
  },
  {
   "cell_type": "code",
   "execution_count": 34,
   "id": "796efb56-7f1d-47db-b823-4a394254ec17",
   "metadata": {},
   "outputs": [],
   "source": [
    "# muat dataset\n",
    "nutrition_df = pd.read_csv('./nutrition.csv')\n",
    "bmi_df = pd.read_csv('./weight.csv')"
   ]
  },
  {
   "cell_type": "code",
   "execution_count": 36,
   "id": "cfc8f765-113d-4304-94bc-39dadff8d4b8",
   "metadata": {},
   "outputs": [
    {
     "data": {
      "text/plain": [
       "(   id  calories  proteins   fat  carbohydrate                name  \\\n",
       " 0   1     280.0       9.2  28.4           0.0                Abon   \n",
       " 1   2     513.0      23.7  37.0          21.3        Abon haruwan   \n",
       " 2   3       0.0       0.0   0.2           0.0           Agar-agar   \n",
       " 3   4      45.0       1.1   0.4          10.8  Akar tonjong segar   \n",
       " 4   5      37.0       4.4   0.5           3.8       Aletoge segar   \n",
       " \n",
       "                                                image  \n",
       " 0  https://img-cdn.medkomtek.com/PbrY9X3ignQ8sVuj...  \n",
       " 1  https://img-global.cpcdn.com/recipes/cbf330fbd...  \n",
       " 2  https://res.cloudinary.com/dk0z4ums3/image/upl...  \n",
       " 3  https://images.tokopedia.net/img/cache/200-squ...  \n",
       " 4  https://nilaigizi.com/assets/images/produk/pro...  ,\n",
       "    ID  Age  Gender  Height  Weight   BMI          Label\n",
       " 0   1   25    Male     175      80  25.3  Normal Weight\n",
       " 1   2   30  Female     160      60  22.5  Normal Weight\n",
       " 2   3   35    Male     180      90  27.3     Overweight\n",
       " 3   4   40  Female     150      50  20.0    Underweight\n",
       " 4   5   45    Male     190     100  31.2          Obese,\n",
       "                  id     calories     proteins          fat  carbohydrate  \\\n",
       " count   1346.000000  1346.000000  1346.000000  1346.000000   1346.000000   \n",
       " unique          NaN          NaN          NaN          NaN           NaN   \n",
       " top             NaN          NaN          NaN          NaN           NaN   \n",
       " freq            NaN          NaN          NaN          NaN           NaN   \n",
       " mean     673.500000   203.217385    10.001189     7.584027     25.390193   \n",
       " std      388.701042   163.075430    11.847980    13.733063     32.193054   \n",
       " min        1.000000     0.000000     0.000000     0.000000      0.000000   \n",
       " 25%      337.250000    75.000000     1.800000     0.500000      4.525000   \n",
       " 50%      673.500000   146.000000     5.000000     2.000000     13.300000   \n",
       " 75%     1009.750000   333.750000    15.000000     8.275000     37.575000   \n",
       " max     1346.000000   940.000000    83.000000   100.000000    647.000000   \n",
       " \n",
       "         name                                              image  \n",
       " count   1346                                               1346  \n",
       " unique  1346                                               1307  \n",
       " top     Abon  https://drive.google.com/file/d/1LZOGoU3M3XcPb...  \n",
       " freq       1                                                 10  \n",
       " mean     NaN                                                NaN  \n",
       " std      NaN                                                NaN  \n",
       " min      NaN                                                NaN  \n",
       " 25%      NaN                                                NaN  \n",
       " 50%      NaN                                                NaN  \n",
       " 75%      NaN                                                NaN  \n",
       " max      NaN                                                NaN  ,\n",
       "                  id     calories     proteins          fat  carbohydrate  \\\n",
       " count   1346.000000  1346.000000  1346.000000  1346.000000   1346.000000   \n",
       " unique          NaN          NaN          NaN          NaN           NaN   \n",
       " top             NaN          NaN          NaN          NaN           NaN   \n",
       " freq            NaN          NaN          NaN          NaN           NaN   \n",
       " mean     673.500000   203.217385    10.001189     7.584027     25.390193   \n",
       " std      388.701042   163.075430    11.847980    13.733063     32.193054   \n",
       " min        1.000000     0.000000     0.000000     0.000000      0.000000   \n",
       " 25%      337.250000    75.000000     1.800000     0.500000      4.525000   \n",
       " 50%      673.500000   146.000000     5.000000     2.000000     13.300000   \n",
       " 75%     1009.750000   333.750000    15.000000     8.275000     37.575000   \n",
       " max     1346.000000   940.000000    83.000000   100.000000    647.000000   \n",
       " \n",
       "         name                                              image  \n",
       " count   1346                                               1346  \n",
       " unique  1346                                               1307  \n",
       " top     Abon  https://drive.google.com/file/d/1LZOGoU3M3XcPb...  \n",
       " freq       1                                                 10  \n",
       " mean     NaN                                                NaN  \n",
       " std      NaN                                                NaN  \n",
       " min      NaN                                                NaN  \n",
       " 25%      NaN                                                NaN  \n",
       " 50%      NaN                                                NaN  \n",
       " 75%      NaN                                                NaN  \n",
       " max      NaN                                                NaN  )"
      ]
     },
     "execution_count": 36,
     "metadata": {},
     "output_type": "execute_result"
    }
   ],
   "source": [
    "nutrition_info = nutrition_df.describe(include='all')\n",
    "bmi_info = nutrition_df.describe(include='all')\n",
    "\n",
    "nutrition_df.head(), bmi_df.head(), nutrition_info, bmi_info"
   ]
  },
  {
   "cell_type": "markdown",
   "id": "c0ad7b6d-5db4-413f-a048-603874df85be",
   "metadata": {},
   "source": [
    "# preprocessing data"
   ]
  },
  {
   "cell_type": "code",
   "execution_count": 46,
   "id": "66f895a4-69d7-4224-8bd0-8803b8114b20",
   "metadata": {},
   "outputs": [],
   "source": [
    "nutrition_df_clean = nutrition_df[\n",
    "    ~((nutrition_df[['calories', 'proteins', 'fat', 'carbohydrate']] == 0).all(axis=1))\n",
    "].copy()"
   ]
  },
  {
   "cell_type": "code",
   "execution_count": 50,
   "id": "b489818d-9b40-4df8-a3da-2c61276e58dd",
   "metadata": {},
   "outputs": [],
   "source": [
    "nutrition_df_clean.drop_duplicates(subset='name', inplace=True)\n",
    "nutrition_df_clean.reset_index(drop=True, inplace=True)"
   ]
  },
  {
   "cell_type": "code",
   "execution_count": 58,
   "id": "51e4fb75-d6e3-4d70-aee6-e30e86d615da",
   "metadata": {},
   "outputs": [],
   "source": [
    "nutrition_df_clean.ffill(inplace=True)\n",
    "bmi_df.ffill(inplace=True)"
   ]
  },
  {
   "cell_type": "code",
   "execution_count": 64,
   "id": "a5948d82-16e2-4498-80d6-ba0c11554d38",
   "metadata": {},
   "outputs": [
    {
     "data": {
      "text/plain": [
       "(                 name  calories  proteins   fat  carbohydrate\n",
       " 0                Abon     280.0       9.2  28.4           0.0\n",
       " 1        Abon haruwan     513.0      23.7  37.0          21.3\n",
       " 2           Agar-agar       0.0       0.0   0.2           0.0\n",
       " 3  Akar tonjong segar      45.0       1.1   0.4          10.8\n",
       " 4       Aletoge segar      37.0       4.4   0.5           3.8,\n",
       "                  name  calories  proteins    fat  carbohydrate\n",
       " 0                Abon  0.297872  0.110843  0.284      0.000000\n",
       " 1        Abon haruwan  0.545745  0.285542  0.370      0.032921\n",
       " 2           Agar-agar  0.000000  0.000000  0.002      0.000000\n",
       " 3  Akar tonjong segar  0.047872  0.013253  0.004      0.016692\n",
       " 4       Aletoge segar  0.039362  0.053012  0.005      0.005873)"
      ]
     },
     "execution_count": 64,
     "metadata": {},
     "output_type": "execute_result"
    }
   ],
   "source": [
    "# Normalize nutritional values (min-max normalization)\n",
    "def normalize(df, columns):\n",
    "    df_norm = df.copy()\n",
    "    for col in columns:\n",
    "        min_val = df[col].min()\n",
    "        max_val = df[col].max()\n",
    "        df_norm[col] = (df[col] - min_val) / (max_val - min_val)\n",
    "    return df_norm\n",
    "\n",
    "nutrition_df_norm = normalize(nutrition_df_clean, ['calories', 'proteins', 'fat', 'carbohydrate'])\n",
    "\n",
    "# Display cleaned and normalized data samples\n",
    "nutrition_df_clean[['name', 'calories', 'proteins', 'fat', 'carbohydrate']].head(), nutrition_df_norm[['name', 'calories', 'proteins', 'fat', 'carbohydrate']].head()"
   ]
  },
  {
   "cell_type": "code",
   "execution_count": 66,
   "id": "ac5001b0-a4ec-4630-8126-a9908a5f4705",
   "metadata": {},
   "outputs": [
    {
     "data": {
      "image/png": "[encoded data removed]",
      "text/plain": [
       "<Figure size 1000x600 with 1 Axes>"
      ]
     },
     "metadata": {},
     "output_type": "display_data"
    }
   ],
   "source": [
    "# Define triangular membership function\n",
    "def triangular_mf(x, a, b, c):\n",
    "    return np.maximum(np.minimum((x - a)/(b - a + 1e-9), (c - x)/(c - b + 1e-9)), 0)\n",
    "\n",
    "# Create membership functions for each nutritional feature: low, medium, high\n",
    "fuzzy_ranges = {\n",
    "    'low':   lambda x: triangular_mf(x, 0.0, 0.0, 0.5),\n",
    "    'medium':lambda x: triangular_mf(x, 0.25, 0.5, 0.75),\n",
    "    'high':  lambda x: triangular_mf(x, 0.5, 1.0, 1.0)\n",
    "}\n",
    "\n",
    "# Visualize membership functions\n",
    "x_vals = np.linspace(0, 1, 100)\n",
    "plt.figure(figsize=(10, 6))\n",
    "for label, func in fuzzy_ranges.items():\n",
    "    plt.plot(x_vals, func(x_vals), label=label)\n",
    "plt.title(\"Fungsi Keanggotaan Fuzzy untuk Nutrisi\")\n",
    "plt.xlabel(\"Nilai Normalisasi\")\n",
    "plt.ylabel(\"Derajat Keanggotaan\")\n",
    "plt.legend()\n",
    "plt.grid(True)\n",
    "plt.tight_layout()\n",
    "plt.show()"
   ]
  },
  {
   "cell_type": "code",
   "execution_count": 70,
   "id": "8fce122f-4c5b-41fa-93b7-a00531f21b04",
   "metadata": {},
   "outputs": [
    {
     "name": "stdout",
     "output_type": "stream",
     "text": [
      "\n",
      "Contoh output fuzzy (Mamdani vs Sugeno):\n",
      "                 name mamdani_output sugeno_output\n",
      "0                Abon      Unhealthy     Unhealthy\n",
      "1        Abon haruwan       Balanced     Unhealthy\n",
      "2           Agar-agar      Unhealthy     Unhealthy\n",
      "3  Akar tonjong segar      Unhealthy     Unhealthy\n",
      "4       Aletoge segar      Unhealthy  High Protein\n",
      "5       Alpukat segar      Unhealthy     Unhealthy\n",
      "6  Ampas kacang hijau      Unhealthy     Unhealthy\n",
      "7          Ampas Tahu       Balanced  High Protein\n",
      "8    Ampas tahu kukus      Unhealthy     Unhealthy\n",
      "9   Ampas tahu mentah      Unhealthy  High Protein\n"
     ]
    }
   ],
   "source": [
    "def compute_memberships(row):\n",
    "    mem = {}\n",
    "    for attr in ['calories', 'proteins', 'fat', 'carbohydrate']:\n",
    "        x = row[attr]\n",
    "        mem[attr] = {label: fuzzy_ranges[label](x) for label in fuzzy_ranges}\n",
    "    return mem\n",
    "\n",
    "# --- Metode Mamdani ---\n",
    "# Contoh aturan sederhana Mamdani:\n",
    "# R1: IF calories is high AND fat is high THEN kategori = 'Unhealthy'\n",
    "# R2: IF calories is low AND proteins is high THEN kategori = 'High Protein'\n",
    "# R3: IF calories is medium AND proteins is medium THEN kategori = 'Balanced'\n",
    "def apply_fuzzy_mamdani(row):\n",
    "    mem = compute_memberships(row)\n",
    "    # Kalkulasi aktivasi aturan dengan operator AND (min)\n",
    "    activation_unhealthy = min(mem['calories']['high'], mem['fat']['high'])\n",
    "    activation_highprot  = min(mem['calories']['low'], mem['proteins']['high'])\n",
    "    activation_balanced  = min(mem['calories']['medium'], mem['proteins']['medium'])\n",
    "    \n",
    "    # Simpan aturan beserta nilai aktivasinya\n",
    "    rules = {\n",
    "        'Unhealthy': activation_unhealthy,\n",
    "        'High Protein': activation_highprot,\n",
    "        'Balanced': activation_balanced\n",
    "    }\n",
    "    # Defuzzifikasi sederhana: pilih kategori dengan nilai aktivasi maksimum\n",
    "    return max(rules, key=rules.get)\n",
    "\n",
    "# --- Metode Sugeno ---\n",
    "# Pada Sugeno, output berupa nilai crisp yang dihitung sebagai fungsi linear sederhana\n",
    "# Contoh aturan:\n",
    "# R1: IF calories is high AND fat is high THEN output = 0.5*calories + 0.3*fat\n",
    "# R2: IF calories is low AND proteins is high THEN output = 0.2*calories + 0.6*proteins\n",
    "# R3: IF calories is medium AND proteins is medium THEN output = 0.25*(calories + proteins + fat + carbohydrate)\n",
    "def apply_fuzzy_sugeno(row):\n",
    "    x = row[['calories', 'proteins', 'fat', 'carbohydrate']].values\n",
    "    # Hitung nilai output untuk tiap aturan\n",
    "    output_R1 = 0.5 * x[0] + 0.3 * x[2]\n",
    "    output_R2 = 0.2 * x[0] + 0.6 * x[1]\n",
    "    output_R3 = 0.25 * (x[0] + x[1] + x[2] + x[3])\n",
    "    \n",
    "    # Untuk menentukan kategori berdasarkan output crisp, kita ambil nilai tertinggi di antara aturan-aturan tersebut.\n",
    "    outputs = {\n",
    "        'Unhealthy': output_R1,\n",
    "        'High Protein': output_R2,\n",
    "        'Balanced': output_R3\n",
    "    }\n",
    "    return max(outputs, key=outputs.get)\n",
    "\n",
    "# Terapkan kedua sistem fuzzy ke dataset\n",
    "nutrition_df_norm['mamdani_output'] = nutrition_df_norm.apply(apply_fuzzy_mamdani, axis=1)\n",
    "nutrition_df_norm['sugeno_output'] = nutrition_df_norm.apply(apply_fuzzy_sugeno, axis=1)\n",
    "\n",
    "print(\"\\nContoh output fuzzy (Mamdani vs Sugeno):\")\n",
    "print(nutrition_df_norm[['name', 'mamdani_output', 'sugeno_output']].head(10))"
   ]
  },
  {
   "cell_type": "code",
   "execution_count": 84,
   "id": "44560176-31cb-4c8a-ad0d-cd0e311b3863",
   "metadata": {},
   "outputs": [
    {
     "name": "stdout",
     "output_type": "stream",
     "text": [
      "Masukkan data pribadi Anda:\n"
     ]
    },
    {
     "name": "stdin",
     "output_type": "stream",
     "text": [
      "Usia:  20\n",
      "Jenis kelamin (Male/Female):  Male\n",
      "Tinggi badan (cm):  165\n",
      "Berat badan (kg):  62\n"
     ]
    },
    {
     "name": "stdout",
     "output_type": "stream",
     "text": [
      "\n",
      "BMI Anda: 22.77 (Normal)\n",
      "Kebutuhan kalori harian Anda (perkiraan): 2127 kcal\n",
      "\n",
      "Berikut adalah 20 makanan teratas yang dapat Anda pilih:\n",
      "[0] - Abon (kalori: 280.0 kcal, protein: 9.2g, lemak: 28.4g, karbo: 0.0g)\n",
      "[1] - Abon haruwan (kalori: 513.0 kcal, protein: 23.7g, lemak: 37.0g, karbo: 21.3g)\n",
      "[2] - Agar-agar (kalori: 0.0 kcal, protein: 0.0g, lemak: 0.2g, karbo: 0.0g)\n",
      "[3] - Akar tonjong segar (kalori: 45.0 kcal, protein: 1.1g, lemak: 0.4g, karbo: 10.8g)\n",
      "[4] - Aletoge segar (kalori: 37.0 kcal, protein: 4.4g, lemak: 0.5g, karbo: 3.8g)\n",
      "[5] - Alpukat segar (kalori: 85.0 kcal, protein: 0.9g, lemak: 6.5g, karbo: 7.7g)\n",
      "[6] - Ampas kacang hijau (kalori: 96.0 kcal, protein: 3.7g, lemak: 0.6g, karbo: 19.1g)\n",
      "[7] - Ampas Tahu (kalori: 414.0 kcal, protein: 26.6g, lemak: 18.3g, karbo: 41.3g)\n",
      "[8] - Ampas tahu kukus (kalori: 75.0 kcal, protein: 4.1g, lemak: 2.1g, karbo: 10.7g)\n",
      "[9] - Ampas tahu mentah (kalori: 67.0 kcal, protein: 5.0g, lemak: 2.1g, karbo: 8.1g)\n",
      "[10] - Anak sapi daging gemuk segar (kalori: 184.0 kcal, protein: 18.8g, lemak: 14.0g, karbo: 0.0g)\n",
      "[11] - Anak sapi daging kurus segar (kalori: 174.0 kcal, protein: 19.6g, lemak: 10.0g, karbo: 0.0g)\n",
      "[12] - Anak sapi daging sedang segar (kalori: 190.0 kcal, protein: 19.1g, lemak: 12.0g, karbo: 0.0g)\n",
      "[13] - Andaliman segar (kalori: 99.0 kcal, protein: 4.6g, lemak: 1.0g, karbo: 18.0g)\n",
      "[14] - Andewi (kalori: 25.0 kcal, protein: 1.6g, lemak: 0.2g, karbo: 5.3g)\n",
      "[15] - Anggur hutan segar (kalori: 30.0 kcal, protein: 0.5g, lemak: 0.2g, karbo: 6.8g)\n",
      "[16] - Angsa (kalori: 354.0 kcal, protein: 16.4g, lemak: 31.5g, karbo: 0.0g)\n",
      "[17] - Anyang sayur (kalori: 126.0 kcal, protein: 3.4g, lemak: 7.9g, karbo: 10.3g)\n",
      "[18] - Apel (kalori: 58.0 kcal, protein: 0.3g, lemak: 0.4g, karbo: 14.9g)\n",
      "[19] - Apel malang segar (kalori: 57.0 kcal, protein: 0.5g, lemak: 0.4g, karbo: 12.8g)\n"
     ]
    },
    {
     "name": "stdin",
     "output_type": "stream",
     "text": [
      "\n",
      "Masukkan nomor makanan yang Anda konsumsi (pisahkan dengan koma, contoh: 0,3,7):  16,16,16,16,16,16,17,19,5,0\n"
     ]
    },
    {
     "name": "stdout",
     "output_type": "stream",
     "text": [
      "\n",
      "Detail makanan yang Anda konsumsi:\n",
      "- Angsa (kalori: 354.0 kcal, protein: 16.4g, lemak: 31.5g, karbo: 0.0g)\n",
      "- Angsa (kalori: 354.0 kcal, protein: 16.4g, lemak: 31.5g, karbo: 0.0g)\n",
      "- Angsa (kalori: 354.0 kcal, protein: 16.4g, lemak: 31.5g, karbo: 0.0g)\n",
      "- Angsa (kalori: 354.0 kcal, protein: 16.4g, lemak: 31.5g, karbo: 0.0g)\n",
      "- Angsa (kalori: 354.0 kcal, protein: 16.4g, lemak: 31.5g, karbo: 0.0g)\n",
      "- Angsa (kalori: 354.0 kcal, protein: 16.4g, lemak: 31.5g, karbo: 0.0g)\n",
      "- Anyang sayur (kalori: 126.0 kcal, protein: 3.4g, lemak: 7.9g, karbo: 10.3g)\n",
      "- Apel malang segar (kalori: 57.0 kcal, protein: 0.5g, lemak: 0.4g, karbo: 12.8g)\n",
      "- Alpukat segar (kalori: 85.0 kcal, protein: 0.9g, lemak: 6.5g, karbo: 7.7g)\n",
      "- Abon (kalori: 280.0 kcal, protein: 9.2g, lemak: 28.4g, karbo: 0.0g)\n",
      "\n",
      "Total konsumsi Anda:\n",
      "- Kalori: 2672.0 kcal\n",
      "- Protein: 112.4 g\n",
      "- Lemak: 232.2 g\n",
      "- Karbohidrat: 30.8 g\n",
      "⚠️  Konsumsi kalori Anda melebihi kebutuhan harian.\n"
     ]
    }
   ],
   "source": [
    "# --- Fuzzy rule untuk kebutuhan kalori harian berdasarkan BMI dan usia ---\n",
    "def bmi_category(bmi):\n",
    "    if bmi < 18.5:\n",
    "        return \"Underweight\"\n",
    "    elif 18.5 <= bmi < 25:\n",
    "        return \"Normal\"\n",
    "    elif 25 <= bmi < 30:\n",
    "        return \"Overweight\"\n",
    "    else:\n",
    "        return \"Obese\"\n",
    "\n",
    "# Hitung kebutuhan kalori harian menggunakan pendekatan Sugeno-like\n",
    "def calculate_daily_calories(height, bmi, activity_level=1.55):\n",
    "    # height dalam cm → m\n",
    "    height_m = height / 100\n",
    "    if bmi < 18.5:\n",
    "        bmi_ref = 19\n",
    "    elif bmi < 25:\n",
    "        bmi_ref = 21\n",
    "    elif bmi < 30:\n",
    "        bmi_ref = 23\n",
    "    else:\n",
    "        bmi_ref = 25\n",
    "    ideal_weight = height_m * height_m * bmi_ref\n",
    "    bmr = 24 * ideal_weight\n",
    "    daily_need = bmr * activity_level\n",
    "    return daily_need\n",
    "\n",
    "# Format output gizi\n",
    "def show_food_info(row):\n",
    "    return f\"- {row['name']} (kalori: {row['calories']} kcal, protein: {row['proteins']}g, lemak: {row['fat']}g, karbo: {row['carbohydrate']}g)\"\n",
    "\n",
    "# === User input ===\n",
    "print(\"Masukkan data pribadi Anda:\")\n",
    "age = int(input(\"Usia: \"))\n",
    "gender = input(\"Jenis kelamin (Male/Female): \")\n",
    "height = float(input(\"Tinggi badan (cm): \"))\n",
    "weight = float(input(\"Berat badan (kg): \"))\n",
    "\n",
    "# Hitung BMI dan kategori\n",
    "bmi_val = weight / ((height / 100) ** 2)\n",
    "bmi_cat = bmi_category(bmi_val)\n",
    "daily_cal = calculate_daily_calories(height, bmi_val)\n",
    "\n",
    "print(f\"\\nBMI Anda: {bmi_val:.2f} ({bmi_cat})\")\n",
    "print(f\"Kebutuhan kalori harian Anda (perkiraan): {daily_cal:.0f} kcal\")\n",
    "\n",
    "# === Tampilkan daftar makanan ===\n",
    "top_n = 20\n",
    "print(f\"\\nBerikut adalah {top_n} makanan teratas yang dapat Anda pilih:\")\n",
    "for i, row in nutrition_df_clean.head(top_n).iterrows():\n",
    "    print(f\"[{i}] {show_food_info(row)}\")\n",
    "\n",
    "# === Pilih makanan ===\n",
    "selected = input(\"\\nMasukkan nomor makanan yang Anda konsumsi (pisahkan dengan koma, contoh: 0,3,7): \")\n",
    "selected_ids = [int(x.strip()) for x in selected.split(\",\")]\n",
    "\n",
    "# === Hitung total gizi yang dikonsumsi ===\n",
    "selected_foods = nutrition_df_clean.loc[selected_ids]\n",
    "total_cal = selected_foods['calories'].sum()\n",
    "total_prot = selected_foods['proteins'].sum()\n",
    "total_fat = selected_foods['fat'].sum()\n",
    "total_carb = selected_foods['carbohydrate'].sum()\n",
    "\n",
    "# === Evaluasi ===\n",
    "print(\"\\nDetail makanan yang Anda konsumsi:\")\n",
    "for _, row in selected_foods.iterrows():\n",
    "    print(show_food_info(row))\n",
    "\n",
    "print(f\"\\nTotal konsumsi Anda:\")\n",
    "print(f\"- Kalori: {total_cal:.1f} kcal\")\n",
    "print(f\"- Protein: {total_prot:.1f} g\")\n",
    "print(f\"- Lemak: {total_fat:.1f} g\")\n",
    "print(f\"- Karbohidrat: {total_carb:.1f} g\")\n",
    "\n",
    "if total_cal > daily_cal + 100:\n",
    "    print(\"⚠️  Konsumsi kalori Anda melebihi kebutuhan harian.\")\n",
    "elif total_cal < daily_cal - 100:\n",
    "    print(\"⚠️  Konsumsi kalori Anda kurang dari kebutuhan harian.\")\n",
    "else:\n",
    "    print(\"✅ Konsumsi kalori Anda sesuai dengan kebutuhan harian.\")\n",
    "\n",
    "# Rekomendasi makanan tambahan (opsional)\n",
    "remaining_cal = daily_cal - total_cal\n",
    "if remaining_cal > 100:\n",
    "    print(\"\\nRekomendasi makanan tambahan (berdasarkan sisa kalori):\")\n",
    "    recs = nutrition_df_clean[nutrition_df_clean['calories'] < remaining_cal].sort_values(by='calories', ascending=False).head(5)\n",
    "    for _, row in recs.iterrows():\n",
    "        print(show_food_info(row))"
   ]
  }
 ],
 "metadata": {
  "kernelspec": {
   "display_name": "Python 3 (ipykernel)",
   "language": "python",
   "name": "python3"
  },
  "language_info": {
   "codemirror_mode": {
    "name": "ipython",
    "version": 3
   },
   "file_extension": ".py",
   "mimetype": "text/x-python",
   "name": "python",
   "nbconvert_exporter": "python",
   "pygments_lexer": "ipython3",
   "version": "3.12.7"
  }
 },
 "nbformat": 4,
 "nbformat_minor": 5
}
